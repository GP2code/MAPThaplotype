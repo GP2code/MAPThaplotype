{
 "cells": [
  {
   "cell_type": "code",
   "execution_count": null,
   "metadata": {},
   "outputs": [],
   "source": []
  },
  {
   "cell_type": "markdown",
   "metadata": {},
   "source": [
    "# MAPT - Subhaplotype analyses\n",
    "\n",
    "## GP2 NBA data release 7\n",
    "\n",
    "## Project: Exploring MAPT-containing H1 and H2 haplotypes  in Parkinson's Disease across diverse populations \n",
    "\n",
    "Version: Python/3.10.12\n",
    "\n",
    "Last Updated: 14-MAY-2025\n",
    "\n",
    "Update Description: Added descriptions to the analysis\n",
    "\n",
    "Gene coordinates for the region of 17q21.31 (containing MAPT) from the UCSC Browser: chr17:42,800,001-46,800,000 (GRCh38/hg38)\n",
    "\n",
    "Notebook overview: In this notebook we performed analyses looking at the frequency of subhaplotypes in PD cases and controls in MAPT using six tagging SNPs. In this notebook, we specifically looked at the AAC ancestry group but the analysis was repeated on the other ancestries available in GP2 (with the exception of the FIN due to low sample size).\n",
    "\n",
    "## Description:\n",
    "\n",
    "* Loading Python librariess, set paths to the GP2 data and defining functions\n",
    "* Install packages\n",
    "* Copy the files\n",
    "* Create a covariate file\n",
    "* Remove related individuals\n",
    "* Remove 'non-PD cases and -controls'\n",
    "* Extract the region of interest\n",
    "* Prepare file with the SNPs in the subhaplotype\n",
    "* Extract the SNPs\n",
    "* Calculate HWE\n",
    "*  Run the subhaplotype analysis in R\n",
    "    * Install R and packages (haplo.stats)\n",
    "    * Run association analysis between the subhaplotypes and PD\n",
    "* Save output\n"
   ]
  },
  {
   "cell_type": "markdown",
   "metadata": {},
   "source": [
    "### 1. Set up things"
   ]
  },
  {
   "cell_type": "markdown",
   "metadata": {},
   "source": [
    "#### Loading Python libraries and defining functions"
   ]
  },
  {
   "cell_type": "code",
   "execution_count": null,
   "metadata": {},
   "outputs": [],
   "source": [
    "# Use the os package to interact with the environment\n",
    "import os\n",
    "\n",
    "# Bring in Pandas for Dataframe functionality\n",
    "import pandas as pd\n",
    "\n",
    "# Numpy for basics\n",
    "import numpy as np\n",
    "\n",
    "# Use StringIO for working with file contents\n",
    "from io import StringIO\n",
    "\n",
    "# Enable IPython to display matplotlib graphs\n",
    "import matplotlib.pyplot as plt\n",
    "%matplotlib inline\n",
    "\n",
    "# Enable interaction with the FireCloud API\n",
    "from firecloud import api as fapi\n",
    "\n",
    "# Import the iPython HTML rendering for displaying links to Google Cloud Console\n",
    "from IPython.core.display import display, HTML\n",
    "\n",
    "# Import urllib modules for building URLs to Google Cloud Console\n",
    "import urllib.parse\n",
    "\n",
    "# BigQuery for querying data\n",
    "from google.cloud import bigquery\n",
    "\n",
    "#Import Sys\n",
    "import sys as sys"
   ]
  },
  {
   "cell_type": "code",
   "execution_count": null,
   "metadata": {
    "scrolled": false
   },
   "outputs": [],
   "source": [
    "# Set up billing project and data path variables\n",
    "BILLING_PROJECT_ID = os.environ['GOOGLE_PROJECT']\n",
    "WORKSPACE_NAMESPACE = os.environ['WORKSPACE_NAMESPACE']\n",
    "WORKSPACE_NAME = os.environ['WORKSPACE_NAME']\n",
    "WORKSPACE_BUCKET = os.environ['WORKSPACE_BUCKET']\n",
    "\n",
    "WORKSPACE_ATTRIBUTES = fapi.get_workspace(WORKSPACE_NAMESPACE, WORKSPACE_NAME).json().get('workspace',{}).get('attributes',{})\n",
    "\n",
    "## Print the information to check we are in the proper release and billing \n",
    "## This will be different for you, the user, depending on the billing project your workspace is on\n",
    "print('Billing and Workspace')\n",
    "print(f'Workspace Name: {WORKSPACE_NAME}')\n",
    "print(f'Billing Project: {BILLING_PROJECT_ID}')\n",
    "print(f'Workspace Bucket, where you can upload and download data: {WORKSPACE_BUCKET}')\n",
    "print('')\n",
    "\n",
    "## GP2 v7.0\n",
    "## Explicitly define release v7.0 path \n",
    "GP2_RELEASE_PATH = 'gs://gp2tier2/path/to/release/7'\n",
    "GP2_CLINICAL_RELEASE_PATH = f'{GP2_RELEASE_PATH}/clinical_data'\n",
    "GP2_RAW_GENO_PATH = f'{GP2_RELEASE_PATH}/raw_genotypes'\n",
    "GP2_IMPUTED_GENO_PATH = f'{GP2_RELEASE_PATH}/imputed_genotypes'\n",
    "GP2_META_RELEASE_PATH = f'{GP2_RELEASE_PATH}/meta_data'\n",
    "GP2_SUMSTAT_RELEASE_PATH = f'{GP2_RELEASE_PATH}/summary_statistics'\n",
    "\n",
    "print('GP2 v7.0')\n",
    "print(f'Path to GP2 v7.0 Clinical Data @ `GP2_CLINICAL_RELEASE_PATH`: {GP2_CLINICAL_RELEASE_PATH}')\n",
    "print(f'Path to GP2 v7.0 Metadata @ `GP2_META_RELEASE_PATH`: {GP2_META_RELEASE_PATH}')\n",
    "print(f'Path to GP2 v7.0 Raw Genotype Data @ `GP2_RAW_GENO_PATH`: {GP2_RAW_GENO_PATH}')\n",
    "print(f'Path to GP2 v7.0 Imputed Genotype Data @ `GP2_IMPUTED_GENO_PATH`: {GP2_IMPUTED_GENO_PATH}')\n",
    "print(f'Path to GP2 v7.0 summary statistics: {GP2_SUMSTAT_RELEASE_PATH}')"
   ]
  },
  {
   "cell_type": "code",
   "execution_count": null,
   "metadata": {},
   "outputs": [],
   "source": [
    "# Utility routine for printing a shell command before executing it\n",
    "def shell_do(command):\n",
    "    print(f'Executing: {command}', file=sys.stderr)\n",
    "    !$command\n",
    "    \n",
    "def shell_return(command):\n",
    "    print(f'Executing: {command}', file=sys.stderr)\n",
    "    output = !$command\n",
    "    return '\\n'.join(output)\n",
    "\n",
    "# Utility routine for printing a query before executing it\n",
    "def bq_query(query):\n",
    "    print(f'Executing: {query}', file=sys.stderr)\n",
    "    return pd.read_gbq(query, project_id=BILLING_PROJECT_ID, dialect='standard')\n",
    "\n",
    "# Utility routine for display a message and a link\n",
    "def display_html_link(description, link_text, url):\n",
    "    html = f'''\n",
    "    <p>\n",
    "    </p>\n",
    "    <p>\n",
    "    {description}\n",
    "    <a target=_blank href=\"{url}\">{link_text}</a>.\n",
    "    </p>\n",
    "    '''\n",
    "\n",
    "    display(HTML(html))\n",
    "\n",
    "# Utility routines for reading files from Google Cloud Storage\n",
    "def gcs_read_file(path):\n",
    "    \"\"\"Return the contents of a file in GCS\"\"\"\n",
    "    contents = !gsutil -u {BILLING_PROJECT_ID} cat {path}\n",
    "    return '\\n'.join(contents)\n",
    "    \n",
    "def gcs_read_csv(path, sep=None):\n",
    "    \"\"\"Return a DataFrame from the contents of a delimited file in GCS\"\"\"\n",
    "    return pd.read_csv(StringIO(gcs_read_file(path)), sep=sep, engine='python')\n",
    "\n",
    "# Utility routine for displaying a message and link to Cloud Console\n",
    "def link_to_cloud_console_gcs(description, link_text, gcs_path):\n",
    "    url = '{}?{}'.format(\n",
    "        os.path.join('https://console.cloud.google.com/storage/browser',\n",
    "                     gcs_path.replace(\"gs://\",\"\")),\n",
    "        urllib.parse.urlencode({'userProject': BILLING_PROJECT_ID}))\n",
    "\n",
    "    display_html_link(description, link_text, url)"
   ]
  },
  {
   "cell_type": "code",
   "execution_count": null,
   "metadata": {},
   "outputs": [],
   "source": [
    "%%capture\n",
    "%%bash\n",
    "\n",
    "# Install plink 1.9\n",
    "cd /home/jupyter/\n",
    "if test -e /home/jupyter/plink; then\n",
    "\n",
    "echo \"Plink is already installed in /home/jupyter/\"\n",
    "else\n",
    "echo \"Plink is not installed\"\n",
    "cd /home/jupyter\n",
    "\n",
    "wget http://s3.amazonaws.com/plink1-assets/plink_linux_x86_64_20190304.zip \n",
    "\n",
    "unzip -o plink_linux_x86_64_20190304.zip\n",
    "mv plink plink1.9\n",
    "\n",
    "fi"
   ]
  },
  {
   "cell_type": "markdown",
   "metadata": {},
   "source": [
    "#### Install plink v1.9 and v2.0"
   ]
  },
  {
   "cell_type": "code",
   "execution_count": null,
   "metadata": {},
   "outputs": [],
   "source": [
    "%%capture\n",
    "%%bash\n",
    "\n",
    "# Install plink 1.9\n",
    "cd /home/jupyter/\n",
    "if test -e /home/jupyter/plink; then\n",
    "\n",
    "echo \"Plink is already installed in /home/jupyter/\"\n",
    "else\n",
    "echo \"Plink is not installed\"\n",
    "cd /home/jupyter\n",
    "\n",
    "wget http://s3.amazonaws.com/plink1-assets/plink_linux_x86_64_20190304.zip \n",
    "\n",
    "unzip -o plink_linux_x86_64_20190304.zip\n",
    "mv plink plink1.9\n",
    "\n",
    "fi"
   ]
  },
  {
   "cell_type": "code",
   "execution_count": null,
   "metadata": {},
   "outputs": [],
   "source": [
    "%%capture\n",
    "%%bash\n",
    "\n",
    "# Install plink 2.0\n",
    "cd /home/jupyter/\n",
    "if test -e /home/jupyter/plink2; then\n",
    "\n",
    "echo \"Plink2 is already installed in /home/jupyter/\"\n",
    "else\n",
    "echo \"Plink2 is not installed\"\n",
    "cd /home/jupyter/\n",
    "\n",
    "wget http://s3.amazonaws.com/plink2-assets/plink2_linux_x86_64_latest.zip\n",
    "\n",
    "unzip -o plink2_linux_x86_64_latest.zip\n",
    "\n",
    "fi"
   ]
  },
  {
   "cell_type": "code",
   "execution_count": null,
   "metadata": {},
   "outputs": [],
   "source": [
    "%%bash\n",
    "\n",
    "# chmod plink 1.9 to make sure you have permission to run the program\n",
    "chmod u+x /home/jupyter/plink1.9"
   ]
  },
  {
   "cell_type": "code",
   "execution_count": null,
   "metadata": {},
   "outputs": [],
   "source": [
    "%%bash\n",
    "\n",
    "# chmod plink 2.0 to make sure you have permission to run the program\n",
    "chmod u+x /home/jupyter/plink2"
   ]
  },
  {
   "cell_type": "code",
   "execution_count": null,
   "metadata": {},
   "outputs": [],
   "source": [
    "# Create a folder on your workspace\n",
    "print(\"Making a working directory\")\n",
    "WORK_DIR = f'/home/jupyter/Subhaplotypes/'\n",
    "shell_do(f'mkdir -p {WORK_DIR}') # f' stands for f-string which contains expressions inside brackets\n"
   ]
  },
  {
   "cell_type": "code",
   "execution_count": null,
   "metadata": {
    "scrolled": false
   },
   "outputs": [],
   "source": [
    "# Check directory where GP2 Tier 2 data is\n",
    "print(\"List available imputed genotype information in GP2\")\n",
    "shell_do(f'gsutil -u {BILLING_PROJECT_ID} ls {GP2_IMPUTED_GENO_PATH}/AAC')"
   ]
  },
  {
   "cell_type": "markdown",
   "metadata": {},
   "source": [
    "#### Copy over files for the relevant ancestry:"
   ]
  },
  {
   "cell_type": "code",
   "execution_count": null,
   "metadata": {
    "scrolled": false
   },
   "outputs": [],
   "source": [
    "shell_do(f'gsutil -u {BILLING_PROJECT_ID} -m cp -r {GP2_IMPUTED_GENO_PATH}/AAC/chr17_AAC_release7* {WORK_DIR}')"
   ]
  },
  {
   "cell_type": "markdown",
   "metadata": {},
   "source": [
    "Also the eigenvec and eigenval files:"
   ]
  },
  {
   "cell_type": "code",
   "execution_count": null,
   "metadata": {},
   "outputs": [],
   "source": [
    "# Check directory where GP2 Tier 2 data is\n",
    "print(\"List available imputed genotype information in GP2\")\n",
    "shell_do(f'gsutil -u {BILLING_PROJECT_ID} ls {GP2_RAW_GENO_PATH}/AAC')"
   ]
  },
  {
   "cell_type": "code",
   "execution_count": null,
   "metadata": {
    "scrolled": true
   },
   "outputs": [],
   "source": [
    "shell_do(f'gsutil -u {BILLING_PROJECT_ID} -m cp -r {GP2_RAW_GENO_PATH}/AAC/AAC_release7.eigenval {WORK_DIR}')\n",
    "shell_do(f'gsutil -u {BILLING_PROJECT_ID} -m cp -r {GP2_RAW_GENO_PATH}/AAC/AAC_release7.eigenvec {WORK_DIR}')"
   ]
  },
  {
   "cell_type": "markdown",
   "metadata": {},
   "source": [
    "#### Create a covariate file"
   ]
  },
  {
   "cell_type": "code",
   "execution_count": null,
   "metadata": {
    "scrolled": false
   },
   "outputs": [],
   "source": [
    "shell_do(f'gsutil -u {BILLING_PROJECT_ID} ls {GP2_CLINICAL_RELEASE_PATH}')\n",
    "shell_do(f'gsutil -u {BILLING_PROJECT_ID} -m cp -r {GP2_CLINICAL_RELEASE_PATH}/master_key_release7_final.csv {WORK_DIR}')"
   ]
  },
  {
   "cell_type": "code",
   "execution_count": null,
   "metadata": {
    "scrolled": true
   },
   "outputs": [],
   "source": [
    "clin = pd.read_csv('/home/jupyter/Subhaplotypes/master_key_release7_final.csv')\n",
    "clin.info()"
   ]
  },
  {
   "cell_type": "code",
   "execution_count": null,
   "metadata": {
    "scrolled": false
   },
   "outputs": [],
   "source": [
    "gen = pd.read_csv('/home/jupyter/Subhaplotypes/chr17_AAC_release7.psam', sep='\\t')\n",
    "gen.head()"
   ]
  },
  {
   "cell_type": "code",
   "execution_count": null,
   "metadata": {
    "scrolled": true
   },
   "outputs": [],
   "source": [
    "pcs = pd.read_csv('/home/jupyter/Subhaplotypes/AAC_release7.eigenvec', sep='\\t')\n",
    "pcs.info()"
   ]
  },
  {
   "cell_type": "code",
   "execution_count": null,
   "metadata": {
    "scrolled": true
   },
   "outputs": [],
   "source": [
    "gen2 = pd.merge(gen, clin, left_on='#IID', right_on='GP2sampleID')\n",
    "gen2.info()"
   ]
  },
  {
   "cell_type": "code",
   "execution_count": null,
   "metadata": {
    "scrolled": true
   },
   "outputs": [],
   "source": [
    "gen3 = pd.merge(gen2, pcs, left_on='#IID', right_on='IID')\n",
    "gen3.info()"
   ]
  },
  {
   "cell_type": "code",
   "execution_count": null,
   "metadata": {
    "scrolled": false
   },
   "outputs": [],
   "source": [
    "plink_clin = gen3[['#IID', 'SEX', 'PHENO1', 'age_at_sample_collection', 'PC1', 'PC2', 'PC3', 'PC4', 'PC5']]\n",
    "plink_clin.info()"
   ]
  },
  {
   "cell_type": "code",
   "execution_count": null,
   "metadata": {},
   "outputs": [],
   "source": [
    "#Rename age_at_sample_collection  \n",
    "plink_clin = plink_clin.rename(columns={'age_at_sample_collection': 'AGE'})\n",
    "plink_clin.head()"
   ]
  },
  {
   "cell_type": "code",
   "execution_count": null,
   "metadata": {
    "scrolled": true
   },
   "outputs": [],
   "source": [
    "plink_clin.to_csv('/home/jupyter/Subhaplotypes/covars.txt', sep='\\t', index=False, na_rep='-9',)"
   ]
  },
  {
   "cell_type": "code",
   "execution_count": null,
   "metadata": {
    "scrolled": false
   },
   "outputs": [],
   "source": [
    "covars = pd.read_csv('/home/jupyter/Subhaplotypes/covars.txt', sep='\\t')\n",
    "covars.info()"
   ]
  },
  {
   "cell_type": "markdown",
   "metadata": {},
   "source": [
    "#### Remove related individuals\n"
   ]
  },
  {
   "cell_type": "code",
   "execution_count": null,
   "metadata": {
    "scrolled": true
   },
   "outputs": [],
   "source": [
    "# Select the file that matches with your population\n",
    "shell_do(f'gsutil -u {BILLING_PROJECT_ID} ls {GP2_META_RELEASE_PATH}/related_samples/')"
   ]
  },
  {
   "cell_type": "code",
   "execution_count": null,
   "metadata": {
    "scrolled": false
   },
   "outputs": [],
   "source": [
    "shell_do(f'gsutil -u {BILLING_PROJECT_ID} -m cp -r {GP2_META_RELEASE_PATH}/related_samples/AAC_release7.related {WORK_DIR}')\n"
   ]
  },
  {
   "cell_type": "code",
   "execution_count": null,
   "metadata": {
    "scrolled": true
   },
   "outputs": [],
   "source": [
    "!cat /home/jupyter/Subhaplotypes/AAC_release7.related"
   ]
  },
  {
   "cell_type": "markdown",
   "metadata": {},
   "source": [
    "The IDs are:\n",
    "ID1: Individual ID for the first individual of the pair\n",
    "ID2: Individual ID for the second individual of the pair\n",
    "We select to remove individuals in the ID1 and only exclude one person in the pair"
   ]
  },
  {
   "cell_type": "code",
   "execution_count": null,
   "metadata": {},
   "outputs": [],
   "source": [
    "%%bash\n",
    "\n",
    "WORK_DIR='/home/jupyter/Subhaplotypes/'\n",
    "cd $WORK_DIR\n",
    "\n",
    "\n",
    "cut -d, -f2 AAC_release7.related > related_ids.txt"
   ]
  },
  {
   "cell_type": "code",
   "execution_count": null,
   "metadata": {
    "scrolled": true
   },
   "outputs": [],
   "source": [
    "!cat /home/jupyter/Subhaplotypes/related_ids.txt"
   ]
  },
  {
   "cell_type": "code",
   "execution_count": null,
   "metadata": {
    "scrolled": true
   },
   "outputs": [],
   "source": [
    "%%bash\n",
    "\n",
    "WORK_DIR='/home/jupyter/Subhaplotypes/'\n",
    "cd $WORK_DIR\n",
    "\n",
    "/home/jupyter/plink2 \\\n",
    "--pfile chr17_AAC_release7 \\\n",
    "--remove related_ids.txt \\\n",
    "--make-pgen \\\n",
    "--out chr17_AAC_release7_nonrelated"
   ]
  },
  {
   "cell_type": "markdown",
   "metadata": {},
   "source": [
    "#### Remove non-PD case control individuals\n",
    "\n",
    "The prune flag keeo only these with a plink phenotype of 1 or 0"
   ]
  },
  {
   "cell_type": "code",
   "execution_count": null,
   "metadata": {},
   "outputs": [],
   "source": [
    "%%bash\n",
    "\n",
    "WORK_DIR='/home/jupyter/Subhaplotypes/'\n",
    "cd $WORK_DIR\n",
    "\n",
    "/home/jupyter/plink2 \\\n",
    "--pfile chr17_AAC_release7_nonrelated  \\\n",
    "--prune \\\n",
    "--make-pgen \\\n",
    "--out chr17_AAC_release7_nonrelated_pdc"
   ]
  },
  {
   "cell_type": "markdown",
   "metadata": {},
   "source": [
    "#### Extract the region of interest (whole MAPT gene), update the variant IDs. and recode to plink v1.9 format (bed/bim/fam)\n",
    "\n",
    "- MAPT coordinates in GRCh38: 17:45894527-46028334 (Ensembl: https://www.ensembl.org/Homo_sapiens/Gene/Summary?g=ENSG00000186868;r=17:45894527-46028334)"
   ]
  },
  {
   "cell_type": "code",
   "execution_count": null,
   "metadata": {
    "scrolled": false
   },
   "outputs": [],
   "source": [
    "%%bash\n",
    "\n",
    "WORK_DIR='/home/jupyter/Subhaplotypes/'\n",
    "cd $WORK_DIR\n",
    "\n",
    "/home/jupyter/plink2 \\\n",
    "--pfile chr17_AAC_release7_nonrelated_pdc \\\n",
    "--chr 17 \\\n",
    "--from-bp 45894527  \\\n",
    "--to-bp 46028334 \\\n",
    "--make-pgen \\\n",
    "--out chr17_AAC_release7_MAPT \\"
   ]
  },
  {
   "cell_type": "code",
   "execution_count": null,
   "metadata": {
    "scrolled": false
   },
   "outputs": [],
   "source": [
    "%%bash\n",
    "\n",
    "WORK_DIR='/home/jupyter/Subhaplotypes/'\n",
    "cd $WORK_DIR\n",
    "\n",
    "/home/jupyter/plink2 \\\n",
    "--pfile chr17_AAC_release7_nonrelated_pdc \\\n",
    "--chr 17 \\\n",
    "--from-bp 45894554  \\\n",
    "--to-bp 46028334 \\\n",
    "--make-bed \\\n",
    "--out chr17_AAC_release7_MAPT \\\n",
    " "
   ]
  },
  {
   "cell_type": "markdown",
   "metadata": {},
   "source": [
    "To check the format of the variant IDs:"
   ]
  },
  {
   "cell_type": "code",
   "execution_count": null,
   "metadata": {
    "scrolled": true
   },
   "outputs": [],
   "source": [
    "%%bash\n",
    "\n",
    "WORK_DIR='/home/jupyter/Subhaplotypes/'\n",
    "cd $WORK_DIR\n",
    "\n",
    "/home/jupyter/plink1.9 \\\n",
    "--bfile chr17_AAC_release7_MAPT \\\n",
    "--chr 17 \\\n",
    "--from-bp 45894554  \\\n",
    "--to-bp 46028334 \\\n",
    "--recode \\\n",
    "--out chr17_AAC_release7_MAPT \\"
   ]
  },
  {
   "cell_type": "code",
   "execution_count": null,
   "metadata": {
    "scrolled": false
   },
   "outputs": [],
   "source": [
    "%%bash\n",
    "\n",
    "WORK_DIR='/home/jupyter/Subhaplotypes/'\n",
    "cd $WORK_DIR\n",
    "\n",
    "head chr17_AAC_release7_MAPT.map"
   ]
  },
  {
   "cell_type": "markdown",
   "metadata": {},
   "source": [
    "### Prepare file with SNPs in the subhaplotypes"
   ]
  },
  {
   "cell_type": "code",
   "execution_count": null,
   "metadata": {
    "scrolled": true
   },
   "outputs": [],
   "source": [
    "%%bash\n",
    "\n",
    "# Define the working directory, adjust this as necessary\n",
    "WORK_DIR='/home/jupyter/Subhaplotypes/'\n",
    "cd $WORK_DIR\n",
    "\n",
    "# Create a file with the desired SNPs - need the coordinates\n",
    "cat > snps_to_keep.txt << EOF\n",
    "chr17:45908813:G:A\n",
    "chr17:45942346:G:A\n",
    "chr17:45977067:A:G\n",
    "chr17:45998697:C:T\n",
    "chr17:46003698:A:G\n",
    "chr17:46028029:A:G\n",
    "EOF\n",
    "\n",
    "# Echo the contents of the file to confirm it was created correctly\n",
    "cat snps_to_keep.txt\n"
   ]
  },
  {
   "cell_type": "markdown",
   "metadata": {},
   "source": [
    "#### Extract the SNPs\n",
    "\n",
    "- We will also add --mind to remove individuals that haven't been fully genotyped for these variants"
   ]
  },
  {
   "cell_type": "code",
   "execution_count": null,
   "metadata": {
    "scrolled": false
   },
   "outputs": [],
   "source": [
    "%%bash\n",
    "\n",
    "WORK_DIR='/home/jupyter/Subhaplotypes/'\n",
    "cd $WORK_DIR\n",
    "\n",
    "/home/jupyter/plink1.9 \\\n",
    "--bfile chr17_AAC_release7_MAPT \\\n",
    "--extract snps_to_keep.txt \\\n",
    "--chr 17 \\\n",
    "--mind 0.01 \\\n",
    "--recode \\\n",
    "--out AAC_release7_MAPT_snps"
   ]
  },
  {
   "cell_type": "markdown",
   "metadata": {},
   "source": [
    "Check the genotyping rate for the variants just to see if all variants have been genotyped properly"
   ]
  },
  {
   "cell_type": "code",
   "execution_count": null,
   "metadata": {},
   "outputs": [],
   "source": [
    "%%bash\n",
    "\n",
    "WORK_DIR='/home/jupyter/Subhaplotypes/'\n",
    "cd $WORK_DIR\n",
    "\n",
    "/home/jupyter/plink1.9 \\\n",
    "--file AAC_release7_MAPT_snps \\\n",
    "--missing \\\n",
    "--out AAC_release7_MAPT_snps"
   ]
  },
  {
   "cell_type": "code",
   "execution_count": null,
   "metadata": {
    "scrolled": false
   },
   "outputs": [],
   "source": [
    "%%bash\n",
    "\n",
    "WORK_DIR='/home/jupyter/Subhaplotypes/'\n",
    "cd $WORK_DIR\n",
    "\n",
    "head AAC_release7_MAPT_snps.lmiss"
   ]
  },
  {
   "cell_type": "markdown",
   "metadata": {},
   "source": [
    "#### Calculate HWE"
   ]
  },
  {
   "cell_type": "markdown",
   "metadata": {},
   "source": [
    ".lmiss is a variant-based missing data report - F_MISS is the missing call rate and N_MISS the number of missing genotype call(s), as you can see here, we have no missing calls"
   ]
  },
  {
   "cell_type": "code",
   "execution_count": null,
   "metadata": {},
   "outputs": [],
   "source": [
    "%%bash\n",
    "\n",
    "WORK_DIR='/home/jupyter/Subhaplotypes/'\n",
    "cd $WORK_DIR\n",
    "\n",
    "/home/jupyter/plink2 \\\n",
    "--bfile chr17_AAC_release7_MAPT \\\n",
    "--extract snps_to_keep.txt \\\n",
    "--chr 17 \\\n",
    "--mind 0.01 \\\n",
    "--make-pgen \\\n",
    "--out AAC_release7_MAPT_snps"
   ]
  },
  {
   "cell_type": "code",
   "execution_count": null,
   "metadata": {
    "scrolled": true
   },
   "outputs": [],
   "source": [
    "%%bash\n",
    "#We will chack if the SNPs deviate from HWE\n",
    "\n",
    "WORK_DIR='/home/jupyter/Subhaplotypes/'\n",
    "cd $WORK_DIR\n",
    "\n",
    "/home/jupyter/tools/plink2 \\\n",
    "--pfile AAC_release7_MAPT_snps \\\n",
    "--hardy \\\n",
    "--keep-if PHENO1==1 \\\n",
    "--out AAC_release7_MAPT_snps"
   ]
  },
  {
   "cell_type": "code",
   "execution_count": null,
   "metadata": {},
   "outputs": [],
   "source": [
    "%%bash\n",
    "\n",
    "WORK_DIR='/home/jupyter/Subhaplotypes/'\n",
    "cd $WORK_DIR\n",
    "head AAC_release7_MAPT_snps.hardy"
   ]
  },
  {
   "cell_type": "markdown",
   "metadata": {},
   "source": [
    "### Run the subhaplotype analysis in R"
   ]
  },
  {
   "cell_type": "markdown",
   "metadata": {},
   "source": [
    "#### Install R and packages (haplo.stat)"
   ]
  },
  {
   "cell_type": "code",
   "execution_count": null,
   "metadata": {
    "scrolled": true
   },
   "outputs": [],
   "source": [
    "pip install rpy2"
   ]
  },
  {
   "cell_type": "code",
   "execution_count": null,
   "metadata": {
    "scrolled": true
   },
   "outputs": [],
   "source": [
    "import rpy2.robjects as robjects\n",
    "# Use R's install.packages function to install haplo.stats\n",
    "robjects.r('install.packages(\"haplo.stats\")')"
   ]
  },
  {
   "cell_type": "code",
   "execution_count": null,
   "metadata": {
    "scrolled": true
   },
   "outputs": [],
   "source": [
    "import rpy2.robjects as robjects\n",
    "\n",
    "# Load the haplo.stats package\n",
    "robjects.r('library(haplo.stats)')"
   ]
  },
  {
   "cell_type": "code",
   "execution_count": null,
   "metadata": {
    "scrolled": true
   },
   "outputs": [],
   "source": [
    "%load_ext rpy2.ipython"
   ]
  },
  {
   "cell_type": "markdown",
   "metadata": {},
   "source": [
    "#### Run association analysis between the subhaplotypes and PD"
   ]
  },
  {
   "cell_type": "code",
   "execution_count": null,
   "metadata": {
    "scrolled": true
   },
   "outputs": [],
   "source": [
    "%%R\n",
    "# Set the working directory to the Terra platform directory\n",
    "setwd(\"/home/jupyter/Subhaplotypes/\")\n",
    "require(data.table)\n",
    "# Read the .map and .ped files generated by PLINK\n",
    "map <- data.frame(fread(\"AAC_release7_MAPT_snps.map\"))\n",
    "head(map)"
   ]
  },
  {
   "cell_type": "code",
   "execution_count": null,
   "metadata": {
    "scrolled": false
   },
   "outputs": [],
   "source": [
    "%%R\n",
    "# Set the working directory to the Terra platform directory\n",
    "setwd(\"/home/jupyter/Subhaplotypes/\")\n",
    "require(data.table)\n",
    "\n",
    "ped <- data.frame(fread(\"AAC_release7_MAPT_snps.ped\"))\n",
    "head(ped)"
   ]
  },
  {
   "cell_type": "code",
   "execution_count": null,
   "metadata": {
    "scrolled": true
   },
   "outputs": [],
   "source": [
    "%%R\n",
    "# Set the working directory to the Terra platform directory\n",
    "setwd(\"/home/jupyter/Subhaplotypes/\")\n",
    "\n",
    "# rename headers in ped file to match it with the SNPs from map file, also specify alleles (a1 and a2) \n",
    "snp_identifiers <- map$V2\n",
    "new_col_names <- unlist(lapply(snp_identifiers, function(snp) c(paste(snp, \"a1\", sep = \".\"), paste(snp, \"a2\", sep = \".\"))))\n",
    "colnames(ped) <- c(\"FID\", \"IID\", \"PAT\",\"MAT\", \"SEX\", \"PHENO\")\n",
    "original_snp_col_names <- colnames(ped)[7:ncol(ped)] # Adjust indices as per your data frame\n",
    "names(ped)[7:ncol(ped)] <- new_col_names\n",
    "head(ped)                          "
   ]
  },
  {
   "cell_type": "code",
   "execution_count": null,
   "metadata": {
    "scrolled": true
   },
   "outputs": [],
   "source": [
    "%%R\n",
    "# Set the working directory to the Terra platform directory\n",
    "setwd(\"/home/jupyter/Subhaplotypes/\")\n",
    "\n",
    "#Subset to keep only SNP-related columns\n",
    "geno <- ped[, 7:ncol(ped)]\n",
    "head(geno)\n"
   ]
  },
  {
   "cell_type": "code",
   "execution_count": null,
   "metadata": {
    "scrolled": true
   },
   "outputs": [],
   "source": [
    "%%R\n",
    "setwd(\"/home/jupyter/Subhaplotypes/\")\n",
    "#Set variables for running the association analyses in haplo.stats\n",
    "\n",
    "#Label the SNPs:\n",
    "label <- c(\"17:45908813\",\"17:45942346\", \"17:45977067\", \"17:45998697\",\"17:46003698\", \"17:46028029\")\n",
    "#Set binary pheno (0=control, 1=patient):\n",
    "ped$PHENO <- ped$PHENO-1\n",
    "print(ped)\n",
    "y.bin <- 1*(ped$PHENO==\"1\")\n",
    "print(y.bin)\n"
   ]
  },
  {
   "cell_type": "markdown",
   "metadata": {},
   "source": [
    "##### Non-adjusted"
   ]
  },
  {
   "cell_type": "code",
   "execution_count": null,
   "metadata": {
    "scrolled": true
   },
   "outputs": [],
   "source": [
    "%%R\n",
    "setwd(\"/home/jupyter/Subhaplotypes/\")\n",
    "#Non-adjusted:\n",
    "H1 <- haplo.cc(y=y.bin, geno=geno, locus.label= label, control = haplo.glm.control(haplo.freq.min = 0.01, haplo.base=17))\n",
    "#As we want the H2 haplotype in all populations: AGGCGG\n",
    "\n",
    "#Sort the output on freq:\n",
    "H1_ccdf <- H1$cc.df\n",
    "H1_ccdf_sort <- H1_ccdf[order(-H1_ccdf$`pool.hf`),]\n",
    "\n",
    "write.csv(H1_ccdf_sort, \"Subhaplo_AAC_nonadj_r7.csv\", row.names=FALSE, quote=FALSE) \n",
    "H1_ccdf_sort"
   ]
  },
  {
   "cell_type": "code",
   "execution_count": null,
   "metadata": {},
   "outputs": [],
   "source": [
    "%%R\n",
    "# Set the working directory to the Terra platform directory\n",
    "setwd(\"/home/jupyter/Subhaplotypes/\")\n",
    "require(data.table)\n",
    "# Read the .map and .ped files generated by PLINK\n",
    "aac <- data.frame(fread(\"Subhaplo_AAC_nonadj_r7.csv\"))\n",
    "aac"
   ]
  },
  {
   "cell_type": "markdown",
   "metadata": {},
   "source": [
    "##### Adjusted"
   ]
  },
  {
   "cell_type": "code",
   "execution_count": null,
   "metadata": {
    "code_folding": []
   },
   "outputs": [],
   "source": [
    "%%R\n",
    "setwd(\"/home/jupyter/Subhaplotypes/\")\n",
    "require(data.table)\n",
    "\n",
    "adj <- data.frame(fread(\"covars.txt\"))\n",
    "head(adj)"
   ]
  },
  {
   "cell_type": "code",
   "execution_count": null,
   "metadata": {
    "scrolled": true
   },
   "outputs": [],
   "source": [
    "%%R\n",
    "setwd(\"/home/jupyter/Subhaplotypes/\")\n",
    "\n",
    "#Set binary pheno in covar (0=control, 1=patient):\n",
    "adj$PHENO <- adj$PHENO1-1\n",
    "adj <- data.frame(adj[,c(\"X.IID\", \"SEX\",\"AGE\",\"PC1\", \"PC2\", \"PC3\", \"PC4\", \"PC5\")])\n",
    "colnames(adj) <- c(\"IID\",\"SEX\", \"AGE\", \"PC1\", \"PC2\", \"PC3\", \"PC4\", \"PC5\")\n",
    "nrow(adj)"
   ]
  },
  {
   "cell_type": "code",
   "execution_count": null,
   "metadata": {},
   "outputs": [],
   "source": [
    "%%R\n",
    "setwd(\"/home/jupyter/Subhaplotypes/\")\n",
    "nrow(adj)"
   ]
  },
  {
   "cell_type": "markdown",
   "metadata": {},
   "source": [
    "We need to keep only those that are kept in the ped file in the covar file in order for the adjusted analyses to run:"
   ]
  },
  {
   "cell_type": "code",
   "execution_count": null,
   "metadata": {},
   "outputs": [],
   "source": [
    "%%R\n",
    "# Set the working directory to the Terra platform directory\n",
    "setwd(\"/home/jupyter/Subhaplotypes/\")\n",
    "require(data.table)\n",
    "\n",
    "ped <- data.frame(fread(\"AAC_release7_MAPT_snps.ped\"))\n",
    "head(ped)"
   ]
  },
  {
   "cell_type": "code",
   "execution_count": null,
   "metadata": {
    "scrolled": true
   },
   "outputs": [],
   "source": [
    "%%R\n",
    "nrow(ped)"
   ]
  },
  {
   "cell_type": "markdown",
   "metadata": {},
   "source": [
    "Change age from -9 to NA in the covariate file. PLINK interpret -9 as a missing value but R does not"
   ]
  },
  {
   "cell_type": "code",
   "execution_count": null,
   "metadata": {
    "scrolled": true
   },
   "outputs": [],
   "source": [
    "%%R\n",
    "# Set the working directory to the Terra platform directory\n",
    "setwd(\"/home/jupyter/Subhaplotypes/\")\n",
    "adj1 <- adj[(adj$IID %in% ped$V2),]\n",
    "#adj1 <- data.frame(adj1[,c(\"SEX\",\"AGE\",\"PC1\", \"PC2\", \"PC3\", \"PC4\", \"PC5\")])\n",
    "head(adj1)\n"
   ]
  },
  {
   "cell_type": "code",
   "execution_count": null,
   "metadata": {
    "scrolled": true
   },
   "outputs": [],
   "source": [
    "%%R\n",
    "nrow(adj1)"
   ]
  },
  {
   "cell_type": "code",
   "execution_count": null,
   "metadata": {
    "scrolled": true
   },
   "outputs": [],
   "source": [
    "%%R\n",
    "setwd(\"/home/jupyter/Subhaplotypes/\")\n",
    "adj1[adj1 == -9] <- NA\n",
    "head(adj1)"
   ]
  },
  {
   "cell_type": "code",
   "execution_count": null,
   "metadata": {
    "code_folding": [],
    "scrolled": true
   },
   "outputs": [],
   "source": [
    "%%R\n",
    "setwd(\"/home/jupyter/Subhaplotypes/\")\n",
    "sum(is.na(adj1$AGE))"
   ]
  },
  {
   "cell_type": "markdown",
   "metadata": {},
   "source": [
    "We also need to remove the individuals with NA in the adj1 covariate file and then remove these from the geno and y.bin for the regression"
   ]
  },
  {
   "cell_type": "code",
   "execution_count": null,
   "metadata": {
    "scrolled": false
   },
   "outputs": [],
   "source": [
    "%%R\n",
    "adj2 <- na.omit(adj1)\n",
    "nrow(adj2)"
   ]
  },
  {
   "cell_type": "code",
   "execution_count": null,
   "metadata": {},
   "outputs": [],
   "source": [
    "%%R\n",
    "# Set the working directory to the Terra platform directory\n",
    "setwd(\"/home/jupyter/Subhaplotypes/\")\n",
    "require(data.table)\n",
    "\n",
    "ped <- data.frame(fread(\"AAC_release7_MAPT_snps.ped\"))\n",
    "head(ped)"
   ]
  },
  {
   "cell_type": "code",
   "execution_count": null,
   "metadata": {
    "scrolled": true
   },
   "outputs": [],
   "source": [
    "%%R\n",
    "# Set the working directory to the Terra platform directory\n",
    "setwd(\"/home/jupyter/Subhaplotypes/\")\n",
    "\n",
    "# rename headers in ped file to match it with the SNPs from map file, also specify alleles (a1 and a2) \n",
    "snp_identifiers <- map$V2\n",
    "new_col_names <- unlist(lapply(snp_identifiers, function(snp) c(paste(snp, \"a1\", sep = \".\"), paste(snp, \"a2\", sep = \".\"))))\n",
    "colnames(ped) <- c(\"FID\", \"IID\", \"PAT\",\"MAT\", \"SEX\", \"PHENO\")\n",
    "original_snp_col_names <- colnames(ped)[7:ncol(ped)] # Adjust indices as per your data frame\n",
    "names(ped)[7:ncol(ped)] <- new_col_names\n",
    "head(ped) "
   ]
  },
  {
   "cell_type": "markdown",
   "metadata": {},
   "source": [
    "Remove individuals with missing covariate data"
   ]
  },
  {
   "cell_type": "code",
   "execution_count": null,
   "metadata": {},
   "outputs": [],
   "source": [
    "%%R\n",
    "# Set the working directory to the Terra platform directory\n",
    "setwd(\"/home/jupyter/Subhaplotypes/\")\n",
    "ped <- ped[(ped$IID %in% adj2$IID),]\n",
    "nrow(ped)"
   ]
  },
  {
   "cell_type": "code",
   "execution_count": null,
   "metadata": {},
   "outputs": [],
   "source": [
    "%%R\n",
    "# Set the working directory to the Terra platform directory\n",
    "setwd(\"/home/jupyter/Subhaplotypes/\")\n",
    "\n",
    "#Subset to keep only SNP-related columns\n",
    "geno <- ped[, 7:ncol(ped)]\n",
    "nrow(geno)\n"
   ]
  },
  {
   "cell_type": "code",
   "execution_count": null,
   "metadata": {},
   "outputs": [],
   "source": [
    "%%R\n",
    "setwd(\"/home/jupyter/Subhaplotypes/\")\n",
    "#Set variables for running the association analyses in haplo.stats\n",
    "\n",
    "#Label the SNPs:\n",
    "label <- c(\"17:45908813\",\"17:45942346\", \"17:45977067\", \"17:45998697\",\"17:46003698\", \"17:46028029\")\n",
    "#Set binary pheno (0=control, 1=patient):\n",
    "ped$PHENO <- ped$PHENO-1\n",
    "head(ped)\n",
    "y.bin <- 1*(ped$PHENO==\"1\")"
   ]
  },
  {
   "cell_type": "code",
   "execution_count": null,
   "metadata": {
    "scrolled": true
   },
   "outputs": [],
   "source": [
    "%%R\n",
    "adj2 <- data.frame(adj2[,c(\"SEX\",\"AGE\",\"PC1\", \"PC2\", \"PC3\", \"PC4\", \"PC5\")])\n",
    "head(adj2)"
   ]
  },
  {
   "cell_type": "code",
   "execution_count": null,
   "metadata": {},
   "outputs": [],
   "source": [
    "%%R\n",
    "adj2 <- data.matrix(adj2)"
   ]
  },
  {
   "cell_type": "markdown",
   "metadata": {},
   "source": [
    "Run the association analyses between the subhaplotypes and PD adjusted by covariates"
   ]
  },
  {
   "cell_type": "code",
   "execution_count": null,
   "metadata": {
    "scrolled": true
   },
   "outputs": [],
   "source": [
    "%%R\n",
    "setwd(\"/home/jupyter/Subhaplotypes/\")\n",
    "#Adjusted for age, sex, PC1-5:\n",
    "require(rms)\n",
    "\n",
    "H1_adj <- haplo.cc(y=y.bin, geno=geno, locus.label=label, x.adj=adj2, control = haplo.glm.control(haplo.freq.min = 0.01, haplo.base=17))\n",
    "H1_adj\n",
    "\n",
    "#Sort the output on p-value and save:\n",
    "H1_adj_ccdf <- H1_adj$cc.df\n",
    "H1_adj_ccdf_sort <- H1_adj_ccdf[order(-H1_adj_ccdf$`pool.hf`),]\n",
    "write.csv(H1_adj_ccdf_sort, \"Subhaplo_AAC_adj_r7.csv\", row.names=FALSE, quote=FALSE) \n",
    "head(H1_adj_ccdf_sort)"
   ]
  },
  {
   "cell_type": "markdown",
   "metadata": {},
   "source": [
    "### Save output\n"
   ]
  },
  {
   "cell_type": "code",
   "execution_count": null,
   "metadata": {
    "scrolled": true
   },
   "outputs": [],
   "source": [
    "shell_do(f'gsutil -mu {BILLING_PROJECT_ID} cp -r {WORK_DIR}Subhaplo_AAC_nonadj_r7.csv {WORKSPACE_BUCKET}')\n",
    "shell_do(f'gsutil -mu {BILLING_PROJECT_ID} cp -r {WORK_DIR}Subhaplo_AAC_adj_r7.csv {WORKSPACE_BUCKET}')"
   ]
  }
 ],
 "metadata": {
  "kernelspec": {
   "display_name": "Python 3 (ipykernel)",
   "language": "python",
   "name": "python3"
  },
  "language_info": {
   "codemirror_mode": {
    "name": "ipython",
    "version": 3
   },
   "file_extension": ".py",
   "mimetype": "text/x-python",
   "name": "python",
   "nbconvert_exporter": "python",
   "pygments_lexer": "ipython3",
   "version": "3.10.9"
  },
  "toc": {
   "base_numbering": 1,
   "nav_menu": {},
   "number_sections": true,
   "sideBar": true,
   "skip_h1_title": false,
   "title_cell": "Table of Contents",
   "title_sidebar": "Contents",
   "toc_cell": false,
   "toc_position": {
    "height": "calc(100% - 180px)",
    "left": "10px",
    "top": "150px",
    "width": "357.797px"
   },
   "toc_section_display": true,
   "toc_window_display": true
  }
 },
 "nbformat": 4,
 "nbformat_minor": 2
}
