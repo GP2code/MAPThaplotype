{
 "cells": [
  {
   "cell_type": "markdown",
   "metadata": {},
   "source": [
    "# MAPT - AAO regression\n",
    "\n",
    "## GP2 NBA data release 7\n",
    "\n",
    "## Project: Exploring MAPT-containing H1 and H2 haplotypes  in Parkinson's Disease across diverse populations (Hackathon project 2023)\n",
    "\n",
    "\n",
    "Version: Python/3.10.12\n",
    "\n",
    "Last Updated: 14-MAY-2025\n",
    "\n",
    "Update Description: Added descriptions to the analysis\n",
    "\n",
    "Gene coordinates for the region of 17q21.31 (containing MAPT) from the UCSC Browser: chr17:42,800,001-46,800,000 (GRCh38/hg38)\n",
    "\n",
    "Notebook overview: In this notebook we performed analyses looking at the association between PD age at onset (AAO) and MAPT H1 vs H2 haplotypes\n",
    "\n",
    "\n",
    "## Description:\n",
    "\n",
    "* Set things up: Loading Python libraries, set paths to the GP2 data and defining functions\n",
    "* Install packages\n",
    "* Copy the files\n",
    "* Create a covariate file\n",
    "* Remove related individuals\n",
    "* Remove 'non-PD cases and -controls' individuals\n",
    "* Set PD cases to status H2 = 1 (H2/H2 and H1/H2) vs H1 = 2 (H1/H1)\n",
    "* Check if the AAO is normally distributed\n",
    "* Test if there is a differene between H1 vs H2 carriers for AAO using Mann-Whitney test\n",
    "* Run linear regression analyses for AAO"
   ]
  },
  {
   "cell_type": "markdown",
   "metadata": {},
   "source": [
    "### 1. Set up things"
   ]
  },
  {
   "cell_type": "markdown",
   "metadata": {},
   "source": [
    "#### Loading Python libraries and defining functions"
   ]
  },
  {
   "cell_type": "code",
   "execution_count": null,
   "metadata": {},
   "outputs": [],
   "source": [
    "# Use the os package to interact with the environment\n",
    "import os\n",
    "\n",
    "# Bring in Pandas for Dataframe functionality\n",
    "import pandas as pd\n",
    "\n",
    "# Numpy for basics\n",
    "import numpy as np\n",
    "\n",
    "# Use StringIO for working with file contents\n",
    "from io import StringIO\n",
    "\n",
    "# Enable IPython to display matplotlib graphs\n",
    "import matplotlib.pyplot as plt\n",
    "%matplotlib inline\n",
    "\n",
    "# Enable interaction with the FireCloud API\n",
    "from firecloud import api as fapi\n",
    "\n",
    "# Import the iPython HTML rendering for displaying links to Google Cloud Console\n",
    "from IPython.core.display import display, HTML\n",
    "\n",
    "# Import urllib modules for building URLs to Google Cloud Console\n",
    "import urllib.parse\n",
    "\n",
    "# BigQuery for querying data\n",
    "from google.cloud import bigquery\n",
    "\n",
    "#Import Sys\n",
    "import sys as sys\n",
    "\n",
    "#Import pathlb\n",
    "import pathlib"
   ]
  },
  {
   "cell_type": "code",
   "execution_count": null,
   "metadata": {
    "scrolled": false
   },
   "outputs": [],
   "source": [
    "# Set up billing project and data path variables\n",
    "BILLING_PROJECT_ID = os.environ['GOOGLE_PROJECT']\n",
    "WORKSPACE_NAMESPACE = os.environ['WORKSPACE_NAMESPACE']\n",
    "WORKSPACE_NAME = os.environ['WORKSPACE_NAME']\n",
    "WORKSPACE_BUCKET = os.environ['WORKSPACE_BUCKET']\n",
    "\n",
    "WORKSPACE_ATTRIBUTES = fapi.get_workspace(WORKSPACE_NAMESPACE, WORKSPACE_NAME).json().get('workspace',{}).get('attributes',{})\n",
    "\n",
    "## Print the information to check we are in the proper release and billing \n",
    "## This will be different for you, the user, depending on the billing project your workspace is on\n",
    "print('Billing and Workspace')\n",
    "print(f'Workspace Name: {WORKSPACE_NAME}')\n",
    "print(f'Billing Project: {BILLING_PROJECT_ID}')\n",
    "print(f'Workspace Bucket, where you can upload and download data: {WORKSPACE_BUCKET}')\n",
    "print('')\n",
    "\n",
    "## GP2 v7.0\n",
    "## Explicitly define release v7.0 path \n",
    "GP2_RELEASE_PATH = 'gs://gp2tier2/path/to/release/7'\n",
    "GP2_CLINICAL_RELEASE_PATH = f'{GP2_RELEASE_PATH}/clinical_data'\n",
    "GP2_RAW_GENO_PATH = f'{GP2_RELEASE_PATH}/raw_genotypes'\n",
    "GP2_IMPUTED_GENO_PATH = f'{GP2_RELEASE_PATH}/imputed_genotypes'\n",
    "GP2_META_RELEASE_PATH = f'{GP2_RELEASE_PATH}/meta_data'\n",
    "GP2_SUMSTAT_RELEASE_PATH = f'{GP2_RELEASE_PATH}/summary_statistics'\n",
    "\n",
    "print('GP2 v7.0')\n",
    "print(f'Path to GP2 v7.0 Clinical Data @ `GP2_CLINICAL_RELEASE_PATH`: {GP2_CLINICAL_RELEASE_PATH}')\n",
    "print(f'Path to GP2 v7.0 Metadata @ `GP2_META_RELEASE_PATH`: {GP2_META_RELEASE_PATH}')\n",
    "print(f'Path to GP2 v7.0 Raw Genotype Data @ `GP2_RAW_GENO_PATH`: {GP2_RAW_GENO_PATH}')\n",
    "print(f'Path to GP2 v7.0 Imputed Genotype Data @ `GP2_IMPUTED_GENO_PATH`: {GP2_IMPUTED_GENO_PATH}')\n",
    "print(f'Path to GP2 v7.0 summary statistics: {GP2_SUMSTAT_RELEASE_PATH}')"
   ]
  },
  {
   "cell_type": "code",
   "execution_count": null,
   "metadata": {},
   "outputs": [],
   "source": [
    "# Utility routine for printing a shell command before executing it\n",
    "def shell_do(command):\n",
    "    print(f'Executing: {command}', file=sys.stderr)\n",
    "    !$command\n",
    "    \n",
    "def shell_return(command):\n",
    "    print(f'Executing: {command}', file=sys.stderr)\n",
    "    output = !$command\n",
    "    return '\\n'.join(output)\n",
    "\n",
    "# Utility routine for printing a query before executing it\n",
    "def bq_query(query):\n",
    "    print(f'Executing: {query}', file=sys.stderr)\n",
    "    return pd.read_gbq(query, project_id=BILLING_PROJECT_ID, dialect='standard')\n",
    "\n",
    "# Utility routine for display a message and a link\n",
    "def display_html_link(description, link_text, url):\n",
    "    html = f'''\n",
    "    <p>\n",
    "    </p>\n",
    "    <p>\n",
    "    {description}\n",
    "    <a target=_blank href=\"{url}\">{link_text}</a>.\n",
    "    </p>\n",
    "    '''\n",
    "\n",
    "    display(HTML(html))\n",
    "\n",
    "# Utility routines for reading files from Google Cloud Storage\n",
    "def gcs_read_file(path):\n",
    "    \"\"\"Return the contents of a file in GCS\"\"\"\n",
    "    contents = !gsutil -u {BILLING_PROJECT_ID} cat {path}\n",
    "    return '\\n'.join(contents)\n",
    "    \n",
    "def gcs_read_csv(path, sep=None):\n",
    "    \"\"\"Return a DataFrame from the contents of a delimited file in GCS\"\"\"\n",
    "    return pd.read_csv(StringIO(gcs_read_file(path)), sep=sep, engine='python')\n",
    "\n",
    "# Utility routine for displaying a message and link to Cloud Console\n",
    "def link_to_cloud_console_gcs(description, link_text, gcs_path):\n",
    "    url = '{}?{}'.format(\n",
    "        os.path.join('https://console.cloud.google.com/storage/browser',\n",
    "                     gcs_path.replace(\"gs://\",\"\")),\n",
    "        urllib.parse.urlencode({'userProject': BILLING_PROJECT_ID}))\n",
    "\n",
    "    display_html_link(description, link_text, url)"
   ]
  },
  {
   "cell_type": "code",
   "execution_count": null,
   "metadata": {},
   "outputs": [],
   "source": [
    "%%capture\n",
    "%%bash\n",
    "\n",
    "# Install plink 1.9\n",
    "cd /home/jupyter/\n",
    "if test -e /home/jupyter/plink; then\n",
    "\n",
    "echo \"Plink is already installed in /home/jupyter/\"\n",
    "else\n",
    "echo \"Plink is not installed\"\n",
    "cd /home/jupyter\n",
    "\n",
    "wget http://s3.amazonaws.com/plink1-assets/plink_linux_x86_64_20190304.zip \n",
    "\n",
    "unzip -o plink_linux_x86_64_20190304.zip\n",
    "mv plink plink1.9\n",
    "\n",
    "fi"
   ]
  },
  {
   "cell_type": "markdown",
   "metadata": {},
   "source": [
    "#### Install plink v1.9 and v2.0"
   ]
  },
  {
   "cell_type": "code",
   "execution_count": null,
   "metadata": {},
   "outputs": [],
   "source": [
    "%%capture\n",
    "%%bash\n",
    "\n",
    "# Install plink 1.9\n",
    "cd /home/jupyter/\n",
    "if test -e /home/jupyter/plink; then\n",
    "\n",
    "echo \"Plink is already installed in /home/jupyter/\"\n",
    "else\n",
    "echo \"Plink is not installed\"\n",
    "cd /home/jupyter\n",
    "\n",
    "wget http://s3.amazonaws.com/plink1-assets/plink_linux_x86_64_20190304.zip \n",
    "\n",
    "unzip -o plink_linux_x86_64_20190304.zip\n",
    "mv plink plink1.9\n",
    "\n",
    "fi"
   ]
  },
  {
   "cell_type": "code",
   "execution_count": null,
   "metadata": {},
   "outputs": [],
   "source": [
    "%%capture\n",
    "%%bash\n",
    "\n",
    "# Install plink 2.0\n",
    "cd /home/jupyter/\n",
    "if test -e /home/jupyter/plink2; then\n",
    "\n",
    "echo \"Plink2 is already installed in /home/jupyter/\"\n",
    "else\n",
    "echo \"Plink2 is not installed\"\n",
    "cd /home/jupyter/\n",
    "\n",
    "wget http://s3.amazonaws.com/plink2-assets/plink2_linux_x86_64_latest.zip\n",
    "\n",
    "unzip -o plink2_linux_x86_64_latest.zip\n",
    "\n",
    "fi"
   ]
  },
  {
   "cell_type": "code",
   "execution_count": null,
   "metadata": {},
   "outputs": [],
   "source": [
    "%%bash\n",
    "\n",
    "# chmod plink 1.9 to make sure you have permission to run the program\n",
    "chmod u+x /home/jupyter/plink1.9"
   ]
  },
  {
   "cell_type": "code",
   "execution_count": null,
   "metadata": {},
   "outputs": [],
   "source": [
    "%%bash\n",
    "\n",
    "# chmod plink 2.0 to make sure you have permission to run the program\n",
    "chmod u+x /home/jupyter/plink2"
   ]
  },
  {
   "cell_type": "code",
   "execution_count": null,
   "metadata": {},
   "outputs": [],
   "source": [
    "# Create a folder on your workspace\n",
    "print(\"Making a working directory\")\n",
    "WORK_DIR = f'/home/jupyter/Subhaplotypes/'\n",
    "shell_do(f'mkdir -p {WORK_DIR}') # f' stands for f-string which contains expressions inside brackets\n"
   ]
  },
  {
   "cell_type": "code",
   "execution_count": null,
   "metadata": {
    "scrolled": false
   },
   "outputs": [],
   "source": [
    "# Check directory where GP2 Tier 2 data is\n",
    "print(\"List available imputed genotype information in GP2\")\n",
    "shell_do(f'gsutil -u {BILLING_PROJECT_ID} ls {GP2_IMPUTED_GENO_PATH}/CAH')"
   ]
  },
  {
   "cell_type": "markdown",
   "metadata": {},
   "source": [
    "#### Retreive the  files "
   ]
  },
  {
   "cell_type": "code",
   "execution_count": null,
   "metadata": {
    "scrolled": true
   },
   "outputs": [],
   "source": [
    "shell_do(f'gsutil -u {BILLING_PROJECT_ID} -m cp -r {GP2_IMPUTED_GENO_PATH}/AFR/chr17_AFR_release7* {WORK_DIR}')\n",
    "shell_do(f'gsutil -u {BILLING_PROJECT_ID} -m cp -r {GP2_IMPUTED_GENO_PATH}/AAC/chr17_AAC_release7* {WORK_DIR}')\n",
    "shell_do(f'gsutil -u {BILLING_PROJECT_ID} -m cp -r {GP2_IMPUTED_GENO_PATH}/AMR/chr17_AMR_release7* {WORK_DIR}')\n",
    "shell_do(f'gsutil -u {BILLING_PROJECT_ID} -m cp -r {GP2_IMPUTED_GENO_PATH}/AJ/chr17_AJ_release7* {WORK_DIR}')\n",
    "shell_do(f'gsutil -u {BILLING_PROJECT_ID} -m cp -r {GP2_IMPUTED_GENO_PATH}/EUR/chr17_EUR_release7* {WORK_DIR}')\n",
    "shell_do(f'gsutil -u {BILLING_PROJECT_ID} -m cp -r {GP2_IMPUTED_GENO_PATH}/EAS/chr17_EAS_release7* {WORK_DIR}')\n",
    "shell_do(f'gsutil -u {BILLING_PROJECT_ID} -m cp -r {GP2_IMPUTED_GENO_PATH}/CAH/chr17_CAH_release7* {WORK_DIR}')\n",
    "shell_do(f'gsutil -u {BILLING_PROJECT_ID} -m cp -r {GP2_IMPUTED_GENO_PATH}/CAS/chr17_CAS_release7* {WORK_DIR}')\n",
    "shell_do(f'gsutil -u {BILLING_PROJECT_ID} -m cp -r {GP2_IMPUTED_GENO_PATH}/MDE/chr17_MDE_release7* {WORK_DIR}')\n",
    "shell_do(f'gsutil -u {BILLING_PROJECT_ID} -m cp -r {GP2_IMPUTED_GENO_PATH}/SAS/chr17_SAS_release7* {WORK_DIR}')"
   ]
  },
  {
   "cell_type": "markdown",
   "metadata": {},
   "source": [
    "Also the eigenvec and eigenval files:"
   ]
  },
  {
   "cell_type": "code",
   "execution_count": null,
   "metadata": {},
   "outputs": [],
   "source": [
    "# Check directory where GP2 Tier 2 data is\n",
    "print(\"List available imputed genotype information in GP2\")\n",
    "shell_do(f'gsutil -u {BILLING_PROJECT_ID} ls {GP2_RAW_GENO_PATH}/CAH')"
   ]
  },
  {
   "cell_type": "code",
   "execution_count": null,
   "metadata": {
    "scrolled": true
   },
   "outputs": [],
   "source": [
    "shell_do(f'gsutil -u {BILLING_PROJECT_ID} -m cp -r {GP2_RAW_GENO_PATH}/AFR/AFR_release7.eigenval {WORK_DIR}')\n",
    "shell_do(f'gsutil -u {BILLING_PROJECT_ID} -m cp -r {GP2_RAW_GENO_PATH}/AFR/AFR_release7.eigenvec {WORK_DIR}')\n",
    "shell_do(f'gsutil -u {BILLING_PROJECT_ID} -m cp -r {GP2_RAW_GENO_PATH}/AAC/AAC_release7.eigenval {WORK_DIR}')\n",
    "shell_do(f'gsutil -u {BILLING_PROJECT_ID} -m cp -r {GP2_RAW_GENO_PATH}/AAC/AAC_release7.eigenvec {WORK_DIR}')\n",
    "shell_do(f'gsutil -u {BILLING_PROJECT_ID} -m cp -r {GP2_RAW_GENO_PATH}/AMR/AMR_release7.eigenval {WORK_DIR}')\n",
    "shell_do(f'gsutil -u {BILLING_PROJECT_ID} -m cp -r {GP2_RAW_GENO_PATH}/AMR/AMR_release7.eigenvec {WORK_DIR}')\n",
    "shell_do(f'gsutil -u {BILLING_PROJECT_ID} -m cp -r {GP2_RAW_GENO_PATH}/AJ/AJ_release7.eigenval {WORK_DIR}')\n",
    "shell_do(f'gsutil -u {BILLING_PROJECT_ID} -m cp -r {GP2_RAW_GENO_PATH}/AJ/AJ_release7.eigenvec {WORK_DIR}')\n",
    "shell_do(f'gsutil -u {BILLING_PROJECT_ID} -m cp -r {GP2_RAW_GENO_PATH}/CAH/CAH_release7.eigenval {WORK_DIR}')\n",
    "shell_do(f'gsutil -u {BILLING_PROJECT_ID} -m cp -r {GP2_RAW_GENO_PATH}/CAH/CAH_release7.eigenvec {WORK_DIR}')\n",
    "shell_do(f'gsutil -u {BILLING_PROJECT_ID} -m cp -r {GP2_RAW_GENO_PATH}/CAS/CAS_release7.eigenval {WORK_DIR}')\n",
    "shell_do(f'gsutil -u {BILLING_PROJECT_ID} -m cp -r {GP2_RAW_GENO_PATH}/CAS/CAS_release7.eigenvec {WORK_DIR}')\n",
    "shell_do(f'gsutil -u {BILLING_PROJECT_ID} -m cp -r {GP2_RAW_GENO_PATH}/EUR/EUR_release7.eigenval {WORK_DIR}')\n",
    "shell_do(f'gsutil -u {BILLING_PROJECT_ID} -m cp -r {GP2_RAW_GENO_PATH}/EUR/EUR_release7.eigenvec {WORK_DIR}')\n",
    "shell_do(f'gsutil -u {BILLING_PROJECT_ID} -m cp -r {GP2_RAW_GENO_PATH}/EAS/EAS_release7.eigenval {WORK_DIR}')\n",
    "shell_do(f'gsutil -u {BILLING_PROJECT_ID} -m cp -r {GP2_RAW_GENO_PATH}/EAS/EAS_release7.eigenvec {WORK_DIR}')\n",
    "shell_do(f'gsutil -u {BILLING_PROJECT_ID} -m cp -r {GP2_RAW_GENO_PATH}/MDE/MDE_release7.eigenval {WORK_DIR}')\n",
    "shell_do(f'gsutil -u {BILLING_PROJECT_ID} -m cp -r {GP2_RAW_GENO_PATH}/MDE/MDE_release7.eigenvec {WORK_DIR}')\n",
    "shell_do(f'gsutil -u {BILLING_PROJECT_ID} -m cp -r {GP2_RAW_GENO_PATH}/SAS/SAS_release7.eigenval {WORK_DIR}')\n",
    "shell_do(f'gsutil -u {BILLING_PROJECT_ID} -m cp -r {GP2_RAW_GENO_PATH}/SAS/SAS_release7.eigenvec {WORK_DIR}')"
   ]
  },
  {
   "cell_type": "code",
   "execution_count": null,
   "metadata": {
    "scrolled": true
   },
   "outputs": [],
   "source": [
    "# Select the file that matches with your population\n",
    "shell_do(f'gsutil -u {BILLING_PROJECT_ID} ls {GP2_META_RELEASE_PATH}/related_samples/')"
   ]
  },
  {
   "cell_type": "code",
   "execution_count": null,
   "metadata": {
    "scrolled": false
   },
   "outputs": [],
   "source": [
    "ancestries = {'AAC', 'AFR', 'AJ', 'AMR', 'CAS', 'EAS', 'EUR', 'FIN', 'MDE', 'SAS', 'CAH'}\n",
    "\n",
    "for ancestry in ancestries:\n",
    "    \n",
    "    shell_do(f'gsutil -u {BILLING_PROJECT_ID} -m cp -r {GP2_META_RELEASE_PATH}/related_samples/{ancestry}_release7.related {WORK_DIR}')\n"
   ]
  },
  {
   "cell_type": "code",
   "execution_count": null,
   "metadata": {
    "scrolled": false
   },
   "outputs": [],
   "source": [
    "!cat /home/jupyter/Subhaplotypes/CAH_release7.related"
   ]
  },
  {
   "cell_type": "markdown",
   "metadata": {},
   "source": [
    "The IDs are:\n",
    "ID1: Individual ID for the first individual of the pair\n",
    "ID2: Individual ID for the second individual of the pair\n",
    "We select to remove individuals in the ID1 and only exclude one person in the pair"
   ]
  },
  {
   "cell_type": "markdown",
   "metadata": {},
   "source": [
    "#### Create a covariate file:"
   ]
  },
  {
   "cell_type": "code",
   "execution_count": null,
   "metadata": {
    "scrolled": false
   },
   "outputs": [],
   "source": [
    "shell_do(f'gsutil -u {BILLING_PROJECT_ID} ls {GP2_CLINICAL_RELEASE_PATH}')\n",
    "shell_do(f'gsutil -u {BILLING_PROJECT_ID} -m cp -r {GP2_CLINICAL_RELEASE_PATH}/master_key_release7_final.csv {WORK_DIR}')"
   ]
  },
  {
   "cell_type": "code",
   "execution_count": null,
   "metadata": {
    "scrolled": false
   },
   "outputs": [],
   "source": [
    "clin = pd.read_csv('/home/jupyter/Subhaplotypes/master_key_release7_final.csv')\n",
    "clin.info()"
   ]
  },
  {
   "cell_type": "code",
   "execution_count": null,
   "metadata": {
    "scrolled": true
   },
   "outputs": [],
   "source": [
    "# Subsetting to keep only a few columns \n",
    "key = clin[['GP2sampleID', 'baseline_GP2_phenotype_for_qc', 'biological_sex_for_qc', 'age_at_sample_collection', 'age_of_onset', 'label']]\n",
    "# Renaming the columns\n",
    "key.rename(columns = {'GP2sampleID':'IID',\n",
    "                                     'baseline_GP2_phenotype_for_qc':'phenotype',\n",
    "                                     'biological_sex_for_qc':'SEX', \n",
    "                                     'age_at_sample_collection':'AGE', \n",
    "                                     'age_of_onset':'AAO'}, inplace = True)\n",
    "key"
   ]
  },
  {
   "cell_type": "code",
   "execution_count": null,
   "metadata": {
    "scrolled": true
   },
   "outputs": [],
   "source": [
    "print(key['phenotype'].unique())\n"
   ]
  },
  {
   "cell_type": "code",
   "execution_count": null,
   "metadata": {},
   "outputs": [],
   "source": [
    " ## Get the PCs\n",
    "pcs = pd.read_csv(f'/home/jupyter/Subhaplotypes/{ancestry}_release7.eigenvec', sep='\\t')\n",
    "    \n",
    "pcs.head()"
   ]
  },
  {
   "cell_type": "code",
   "execution_count": null,
   "metadata": {},
   "outputs": [],
   "source": [
    "ancestries = {'AAC', 'AFR', 'AJ', 'AMR', 'CAS', 'EAS', 'EUR', 'MDE', 'SAS', 'CAH'}\n",
    "\n",
    "for ancestry in ancestries:\n",
    "    \n",
    "    print(f'WORKING ON: {ancestry}')\n",
    "    \n",
    "    ## Subset to keep ancestry of interest \n",
    "    ancestry_key = key[key['label']==ancestry].copy()\n",
    "    ancestry_key.reset_index(drop=True)\n",
    "    \n",
    "    # Load information about related individuals in the ancestry analyzed\n",
    "    related_df = pd.read_csv(f'/home/jupyter/Subhaplotypes/{ancestry}_release7.related')\n",
    "    print(f'Related individuals: {related_df.shape}')\n",
    "\n",
    "    # Make a list of just one set of related people\n",
    "    related_list = list(related_df['IID1'])\n",
    "\n",
    "    # Check value counts of related and remove only one related individual\n",
    "    ancestry_key = ancestry_key[~ancestry_key[\"IID\"].isin(related_list)]\n",
    "\n",
    "    # Check size\n",
    "    print(f'Unrelated individuals: {ancestry_key.shape}')\n",
    "    \n",
    "    # Convert phenotype to binary (1/2)\n",
    "    ## Assign conditions so case=2 and controls=1, and -9 otherwise (matching PLINK convention)\n",
    "    # PD = 2; control = 1\n",
    "    pheno_mapping = {\"PD\": 2, \"Control\": 1}\n",
    "    ancestry_key['PHENO'] = ancestry_key['phenotype'].map(pheno_mapping).astype('Int64')\n",
    "\n",
    "    # Check value counts of pheno\n",
    "    ancestry_key['PHENO'].value_counts(dropna=False)\n",
    "    \n",
    "    ## Get the PCs\n",
    "    pcs = pd.read_csv(f'/home/jupyter/Subhaplotypes/{ancestry}_release7.eigenvec', sep='\\t')\n",
    "    \n",
    "    #Select the first 10 PCs\n",
    "    selected_columns = ['IID', 'PC1', 'PC2', 'PC3', 'PC4', 'PC5', 'PC6', 'PC7', 'PC8', 'PC9', 'PC10']\n",
    "    pcs = pd.DataFrame(data=pcs.iloc[:, 1:12].values, columns=selected_columns)\n",
    "\n",
    "    # Drop the first row (since it's now the column names)\n",
    "    pcs = pcs.drop(0)\n",
    "\n",
    "    # Reset the index to remove any potential issues\n",
    "    pcs = pcs.reset_index(drop=True)\n",
    "    \n",
    "    # Check size\n",
    "    print(f'PCs: {pcs.shape}')\n",
    "\n",
    "    # Check value counts of SEX\n",
    "    sex_og_values = ancestry_key['SEX'].value_counts(dropna=False)\n",
    "    print(f'Sex value counts - original:\\n {sex_og_values.to_string()}')\n",
    "    \n",
    "    # Convert sex to binary (1/2)\n",
    "    ## Assign conditions so female=2 and men=1, and -9 otherwise (matching PLINK convention)\n",
    "    # Female = 2; Male = 1\n",
    "    sex_mapping = {\"Female\": 2, \"Male\": 1}\n",
    "    ancestry_key['SEX'] = ancestry_key['SEX'].map(sex_mapping).astype('Int64')\n",
    "    \n",
    "    # Check value counts of SEX after recoding\n",
    "    sex_recode_values = ancestry_key['SEX'].value_counts(dropna=False)\n",
    "    print(f'Sex value counts - recoded:\\n{sex_recode_values.to_string()}')\n",
    "    \n",
    "    ## Make covariate file\n",
    "    df = pd.merge(pcs, ancestry_key, on='IID', how='left')\n",
    "    print(f'Check columns for covariate file: {df.columns}')\n",
    "    \n",
    "    #Make additional columns - FID, fatid and matid - these are needed for RVtests!!\n",
    "    #RVtests needs the first 5 columns to be fid, iid, fatid, matid and sex otherwise it does not run correctly\n",
    "    #Uppercase column name is ok\n",
    "    #See https://zhanxw.github.io/rvtests/#phenotype-file\n",
    "    df['FID'] = 0\n",
    "    df['FATID'] = 0\n",
    "    df['MATID'] = 0\n",
    "\n",
    "    ## Clean up and keep columns we need \n",
    "    final_df = df[['FID','IID', 'FATID', 'MATID', 'SEX', 'AGE','AAO', 'PHENO','PC1', 'PC2', 'PC3', 'PC4', 'PC5','PC6', 'PC7', 'PC8', 'PC9', 'PC10']].copy()\n",
    "\n",
    "    ##DO NOT replace missing values with -9 as this is misinterpreted by RVtests - needs to be nonnumeric\n",
    "    #Leave missing values as NA\n",
    "    \n",
    "    #Check number of PD cases missing age\n",
    "    pd_missAge = final_df[(final_df['PHENO']==2)&(final_df['AGE'].isna())]\n",
    "    print(f'Number of PD cases missing age: {pd_missAge.shape[0]}')\n",
    "    \n",
    "    #Check number of controls missing age\n",
    "    control_missAge = final_df[(final_df['PHENO']==1)&(final_df['AGE'].isna())]\n",
    "    print(f'Number of controls missing age: {control_missAge.shape[0]}')\n",
    "\n",
    "    ## Make file of sample IDs to keep \n",
    "    samples_toKeep = final_df[['FID', 'IID']].copy()\n",
    "    \n",
    "    # Define paths for saving files locally\n",
    "    output_dir = pathlib.Path(f'/home/jupyter/Subhaplotypes/{ancestry}')\n",
    "    output_dir.mkdir(parents=True, exist_ok=True)\n",
    "\n",
    "    samplestokeep_path = output_dir / f'{ancestry}.samplestokeep'\n",
    "    samples_toKeep.to_csv(samplestokeep_path, sep='\\t', index=False, header=None)\n",
    "\n",
    "    # Save the final DataFrame locally\n",
    "    final_file_path = output_dir / f'{ancestry}_covariates.tsv'\n",
    "    final_df.to_csv(final_file_path, sep='\\t', index=False)\n",
    "\n",
    "    print(f'Files saved for {ancestry} in {output_dir}\\n')\n"
   ]
  },
  {
   "cell_type": "code",
   "execution_count": null,
   "metadata": {
    "scrolled": true
   },
   "outputs": [],
   "source": [
    "EAS = pd.read_csv('/home/jupyter/Subhaplotypes/EUR/EUR_covariates.tsv', sep='\\t')\n",
    "EAS.info()"
   ]
  },
  {
   "cell_type": "code",
   "execution_count": null,
   "metadata": {},
   "outputs": [],
   "source": [
    "EAS.head()"
   ]
  },
  {
   "cell_type": "markdown",
   "metadata": {},
   "source": [
    "#### Remove related individuals\n"
   ]
  },
  {
   "cell_type": "code",
   "execution_count": null,
   "metadata": {},
   "outputs": [],
   "source": [
    "%%bash\n",
    "\n",
    "ancestries=('AAC' 'AFR' 'AJ' 'AMR' 'CAS' 'EAS' 'EUR' 'MDE' 'SAS' 'CAH')\n",
    "\n",
    "WORK_DIR='/home/jupyter/Subhaplotypes/'\n",
    "cd $WORK_DIR\n",
    "\n",
    "for ancestry in \"${ancestries[@]}\"; do\n",
    "    echo \"Processing ancestry: $ancestry\"\n",
    "    tail -n +2 \"${ancestry}_release7.related\" | cut -d, -f2 > \"${ancestry}_related_ids.txt\"\n",
    "done"
   ]
  },
  {
   "cell_type": "code",
   "execution_count": null,
   "metadata": {
    "scrolled": true
   },
   "outputs": [],
   "source": [
    "!cat /home/jupyter/Subhaplotypes/CAS_related_ids.txt"
   ]
  },
  {
   "cell_type": "code",
   "execution_count": null,
   "metadata": {
    "scrolled": true
   },
   "outputs": [],
   "source": [
    "%%bash\n",
    "\n",
    "WORK_DIR='/home/jupyter/Subhaplotypes/'\n",
    "cd $WORK_DIR\n",
    "\n",
    "ancestries=('AAC' 'AFR' 'AJ' 'AMR' 'CAS' 'EAS' 'EUR' 'MDE' 'SAS' 'CAH')\n",
    "\n",
    "for ancestry in \"${ancestries[@]}\"; do\n",
    "    echo \"Processing ancestry: $ancestry\"\n",
    "    /home/jupyter/plink2 \\\n",
    "        --pfile chr17_${ancestry}_release7 \\\n",
    "        --remove ${ancestry}_related_ids.txt \\\n",
    "        --make-pgen \\\n",
    "        --out chr17_${ancestry}_release7_nonrelated\n",
    "done"
   ]
  },
  {
   "cell_type": "markdown",
   "metadata": {},
   "source": [
    "#### Remove non-PD case control individuals\n",
    "\n",
    "The prune flag keeo only these with a plink phenotype of 1 or 0"
   ]
  },
  {
   "cell_type": "code",
   "execution_count": null,
   "metadata": {},
   "outputs": [],
   "source": [
    "\n",
    "%%bash\n",
    "\n",
    "WORK_DIR='/home/jupyter/Subhaplotypes/'\n",
    "cd $WORK_DIR\n",
    "\n",
    "ancestries=('AAC' 'AFR' 'AJ' 'AMR' 'CAS' 'EAS' 'EUR' 'MDE' 'SAS' 'CAH')\n",
    "\n",
    "for ancestry in \"${ancestries[@]}\"; do\n",
    "    echo \"Processing ancestry: $ancestry\"\n",
    "    /home/jupyter/plink2 \\\n",
    "        --pfile chr17_${ancestry}_release7_nonrelated \\\n",
    "        --prune \\\n",
    "        --make-pgen \\\n",
    "        --out chr17_${ancestry}_release7_nonrelated_pdc\n",
    "done"
   ]
  },
  {
   "cell_type": "code",
   "execution_count": null,
   "metadata": {},
   "outputs": [],
   "source": [
    "%%bash\n",
    "\n",
    "#extract the SNP of interest\n",
    "\n",
    "WORK_DIR='/home/jupyter/Subhaplotypes/'\n",
    "cd $WORK_DIR\n",
    "\n",
    "ancestries=('AAC' 'AFR' 'AJ' 'AMR' 'CAS' 'EAS' 'EUR' 'MDE' 'SAS' 'CAH')\n",
    "\n",
    "for ancestry in \"${ancestries[@]}\"; do\n",
    "    echo \"Processing ancestry: $ancestry\"\n",
    "    /home/jupyter/tools/plink2 \\\n",
    "    --pfile chr17_${ancestry}_release7_nonrelated_pdc \\\n",
    "    --chr 17 \\\n",
    "    --from-bp 45996523  \\\n",
    "    --to-bp 45996523 \\\n",
    "    --mac 20 \\\n",
    "    --mind \\\n",
    "    --make-pgen \\\n",
    "    --out ${ancestry}_haplo_h1h2\n",
    "done"
   ]
  },
  {
   "cell_type": "markdown",
   "metadata": {},
   "source": [
    "#### Set PD cases to status H2 = 1 (H2/H2 and H1/H2) vs H1 = 2 (H1/H1)"
   ]
  },
  {
   "cell_type": "code",
   "execution_count": null,
   "metadata": {
    "scrolled": true
   },
   "outputs": [],
   "source": [
    "\n",
    "# Define ancestry groups\n",
    "ancestries = ['AAC', 'AFR', 'AJ', 'AMR', 'CAS', 'EAS', 'EUR', 'MDE', 'SAS', 'CAH']\n",
    "\n",
    "# Base directories\n",
    "covariates_dir = \"/home/jupyter/Subhaplotypes\"\n",
    "h1h1_cases_dir = \"/home/jupyter/Team6_haplo\"\n",
    "\n",
    "# Loop through each ancestry group\n",
    "for ancestry in ancestries:\n",
    "    print(f\"Processing ancestry: {ancestry}\")\n",
    "\n",
    "    # Define file paths\n",
    "    covariates_file = f\"{covariates_dir}/{ancestry}/{ancestry}_covariates_cleaned.tsv\"\n",
    "    h1h1_cases_file = f\"{h1h1_cases_dir}/{ancestry}_h1h1_cases.tsv\"\n",
    "    output_file = f\"{covariates_dir}/{ancestry}/{ancestry}_covariates_updated.tsv\"\n",
    "\n",
    "    try:\n",
    "        # Load the files\n",
    "        EUR = pd.read_csv(covariates_file, sep='\\t')\n",
    "        EUR_h1 = pd.read_csv(h1h1_cases_file, sep='\\t')\n",
    "\n",
    "        # Create a set of IIDs from EUR_h1 for fast lookup\n",
    "        h1_iids = set(EUR_h1['IID'])\n",
    "\n",
    "        # Assign 2 if IID is in EUR_h1, otherwise assign 1\n",
    "        EUR['H1H1_Status'] = EUR['IID'].apply(lambda x: 2 if x in h1_iids else 1)\n",
    "\n",
    "        # Save the updated file\n",
    "        EUR.to_csv(output_file, sep='\\t', index=False)\n",
    "\n",
    "        print(f\"Updated file saved as: {output_file}\")\n",
    "\n",
    "        # Print counts of 1s and 2s\n",
    "        counts = EUR['H1H1_Status'].value_counts()\n",
    "        print(f\"Counts for {ancestry}:\")\n",
    "        print(counts, \"\\n\")\n",
    "\n",
    "    except FileNotFoundError:\n",
    "        print(f\"Skipping {ancestry}: One of the files is missing.\")\n",
    "\n",
    "print(\"Processing complete!\")\n"
   ]
  },
  {
   "cell_type": "code",
   "execution_count": null,
   "metadata": {
    "scrolled": true
   },
   "outputs": [],
   "source": [
    "#remove rows with missing data\n",
    "\n",
    "# Define ancestries and base directory\n",
    "ancestries = ['AAC', 'AFR', 'AJ', 'AMR', 'CAS', 'EAS', 'EUR', 'MDE', 'SAS', 'CAH']\n",
    "base_dir = '/home/jupyter/Subhaplotypes'\n",
    "\n",
    "# Process each ancestry file\n",
    "for ancestry in ancestries:\n",
    "    print(f\"Processing ancestry: {ancestry}\")\n",
    "    input_file = os.path.join(base_dir, ancestry, f\"{ancestry}_covariates.tsv\")\n",
    "    output_file = os.path.join(base_dir, ancestry, f\"{ancestry}_covariates_cleaned.tsv\")\n",
    "\n",
    "    # Check if file exists\n",
    "    if os.path.exists(input_file):\n",
    "        # Read file and drop rows with missing values\n",
    "        df = pd.read_csv(input_file, sep='\\t')\n",
    "        df_cleaned = df.dropna()  # Drop rows with any NaN/NA values\n",
    "        df_cleaned.to_csv(output_file, sep='\\t', index=False)\n",
    "        print(f\"Cleaned file saved: {output_file}\")\n",
    "    else:\n",
    "        print(f\"File not found: {input_file}\")\n"
   ]
  },
  {
   "cell_type": "markdown",
   "metadata": {},
   "source": [
    "#### Check if the AAO is normally distributed"
   ]
  },
  {
   "cell_type": "code",
   "execution_count": null,
   "metadata": {
    "scrolled": true
   },
   "outputs": [],
   "source": [
    "#Look at if the data for AAO is normally discributed:\n",
    "\n",
    "import scipy.stats as stats\n",
    "\n",
    "# Define ancestry groups\n",
    "ancestries = ['AAC', 'AFR', 'AJ', 'AMR', 'CAS', 'EAS', 'EUR', 'MDE', 'SAS', 'CAH']\n",
    "\n",
    "# Loop through each ancestry group\n",
    "for ancestry in ancestries:\n",
    "    file_path = f\"/home/jupyter/Subhaplotypes/{ancestry}/{ancestry}_covariates_updated.tsv\"\n",
    "\n",
    "    try:\n",
    "        # Load data\n",
    "        df = pd.read_csv(file_path, sep='\\t')\n",
    "\n",
    "        # Filter for PHENO = 2 and remove missing AAO values\n",
    "        df = df[df['PHENO'] == 2].dropna(subset=['AAO'])\n",
    "\n",
    "        # Split into groups\n",
    "        group_1 = df[df['H1H1_Status'] == 1]['AAO']\n",
    "        group_2 = df[df['H1H1_Status'] == 2]['AAO']\n",
    "\n",
    "        # Function to perform the Shapiro-Wilk test\n",
    "        def shapiro_test(data, group_name):\n",
    "            if len(data) >= 3 and len(data) < 5000:  # Shapiro-Wilk is valid for n < 5000\n",
    "                shapiro_stat, shapiro_p = stats.shapiro(data)\n",
    "                print(f\"{ancestry} - {group_name}: p={shapiro_p:.5f} (p < 0.05 means NOT normal)\")\n",
    "            else:\n",
    "                print(f\"{ancestry} - {group_name}: Sample size too large for Shapiro-Wilk test\")\n",
    "\n",
    "        # Run the test for both groups\n",
    "        print(f\"\\n### Testing Normality for {ancestry} ###\")\n",
    "        shapiro_test(group_1, \"H1H1_Status = 1\")\n",
    "        shapiro_test(group_2, \"H1H1_Status = 2\")\n",
    "\n",
    "    except Exception as e:\n",
    "        print(f\"Error processing {ancestry}: {e}\")\n"
   ]
  },
  {
   "cell_type": "markdown",
   "metadata": {},
   "source": [
    "#### Test if there is a difference between H1 vs H2 carriers for AAO using Mann-Whitney test\n",
    "We are using the Mann-Whitnay test as the data was not normally distributed"
   ]
  },
  {
   "cell_type": "code",
   "execution_count": null,
   "metadata": {},
   "outputs": [],
   "source": [
    "#Test if there is a differene between H1 vs H2 carriers for AAO\n",
    "\n",
    "from scipy.stats import mannwhitneyu\n",
    "\n",
    "ancestries = ['AAC', 'AFR', 'AJ', 'AMR', 'CAS', 'EAS', 'EUR', 'MDE', 'SAS', 'CAH']\n",
    "\n",
    "for ancestry in ancestries:\n",
    "    file_path = f\"/home/jupyter/Subhaplotypes/{ancestry}/{ancestry}_covariates_updated.tsv\"\n",
    "    \n",
    "    try:\n",
    "        df = pd.read_csv(file_path, sep='\\t')\n",
    "\n",
    "        # Filter for PHENO = 2 and remove missing AAO values\n",
    "        df = df[df['PHENO'] == 2].dropna(subset=['AAO'])\n",
    "\n",
    "        # Split into groups\n",
    "        group_1 = df[df['H1H1_Status'] == 1]['AAO']\n",
    "        group_2 = df[df['H1H1_Status'] == 2]['AAO']\n",
    "\n",
    "        # Check if we have enough data for a valid test\n",
    "        if len(group_1) > 1 and len(group_2) > 1:\n",
    "            u_stat, p_u = mannwhitneyu(group_1, group_2, alternative='two-sided')\n",
    "\n",
    "            print(f\"{ancestry} - Mann-Whitney U test p-value: {p_u:.5f}\")\n",
    "        else:\n",
    "            print(f\"{ancestry} - Not enough data for statistical test.\")\n",
    "\n",
    "    except FileNotFoundError:\n",
    "        print(f\"{ancestry} - File not found, skipping.\")\n",
    "\n",
    "print(\"Statistical tests completed for all ancestries.\")\n",
    "\n"
   ]
  },
  {
   "cell_type": "markdown",
   "metadata": {},
   "source": [
    "#### Run linear regression analyses for H1/H2 vs AAO"
   ]
  },
  {
   "cell_type": "code",
   "execution_count": null,
   "metadata": {},
   "outputs": [],
   "source": [
    "%%bash\n",
    "\n",
    "WORK_DIR='/home/jupyter/Subhaplotypes/'\n",
    "cd $WORK_DIR\n",
    "\n",
    "ancestries=('AAC' 'AFR' 'AJ' 'AMR' 'CAS' 'EAS' 'EUR' 'MDE' 'SAS' 'CAH')\n",
    "\n",
    "for ancestry in \"${ancestries[@]}\"; do\n",
    "    echo \"Processing ancestry: $ancestry\"\n",
    "    /home/jupyter/tools/plink2 \\\n",
    "    --pfile ${ancestry}_haplo_h1h2 \\\n",
    "    --glm hide-covar --ci 0.95 \\\n",
    "    --covar /home/jupyter/Subhaplotypes/${ancestry}/${ancestry}_covariates_cleaned.tsv \\\n",
    "    --covar-name SEX,PC1,PC2,PC3,PC4,PC5,PC6,PC7,PC8,PC9,PC10 \\\n",
    "    --pheno-name AAO \\\n",
    "    --pheno ${ancestry}/${ancestry}_covariates_cleaned.tsv \\\n",
    "    --covar-variance-standardize \\\n",
    "    --out /home/jupyter/Subhaplotypes/${ancestry}_H1_H2_AAO\n",
    "done\n"
   ]
  },
  {
   "cell_type": "code",
   "execution_count": null,
   "metadata": {
    "scrolled": true
   },
   "outputs": [],
   "source": [
    "import pandas as pd\n",
    "\n",
    "# List of ancestries\n",
    "ancestries = ['AAC', 'AFR', 'AJ', 'AMR', 'CAS', 'EAS', 'EUR', 'MDE', 'SAS', 'CAH']\n",
    "\n",
    "# Base directory for all ancestries\n",
    "BASE_DIR = '/home/jupyter/Subhaplotypes'\n",
    "\n",
    "# Loop through ancestries and read each file\n",
    "for ancestry in ancestries:\n",
    "    # Construct the file path\n",
    "    file_path = f\"{BASE_DIR}/{ancestry}_H1_H2_AAO.AAO.glm.linear\"\n",
    "    \n",
    "    try:\n",
    "        # Read the file into a pandas DataFrame\n",
    "        df = pd.read_csv(file_path, sep='\\t')\n",
    "        \n",
    "        # Display the DataFrame with pandas styling (nice in Jupyter notebooks)\n",
    "        print(f\"Displaying contents of {ancestry} file:\")\n",
    "        display(df.head().style.set_properties(**{'text-align': 'center'}))  # Center align text\n",
    "        print(\"\\n\" + \"-\"*50 + \"\\n\")\n",
    "    except FileNotFoundError:\n",
    "        print(f\"File not found for ancestry {ancestry}: {file_path}\")\n"
   ]
  },
  {
   "cell_type": "markdown",
   "metadata": {},
   "source": [
    "Flip the ref and alt allele"
   ]
  },
  {
   "cell_type": "code",
   "execution_count": null,
   "metadata": {
    "scrolled": true
   },
   "outputs": [],
   "source": [
    "%%bash\n",
    "cd /home/jupyter/Subhaplotypes\n",
    "head -20 AAC_haplo_h1h2_.pvar"
   ]
  },
  {
   "cell_type": "code",
   "execution_count": null,
   "metadata": {},
   "outputs": [],
   "source": [
    "## Prepare allele.txt file to flip major/minor alleles\n",
    "# Define the SNP and allele\n",
    "snp = 'chr17:45996523:A:G'\n",
    "allele = 'G'\n",
    "\n",
    "# Specify the output file name\n",
    "output_file = '/home/jupyter/Subhaplotypes/alleles.txt'\n",
    "\n",
    "# Write the SNP and allele to the file\n",
    "with open(output_file, 'w') as f:\n",
    "    f.write(f\"{snp} {allele}\\n\")"
   ]
  },
  {
   "cell_type": "code",
   "execution_count": null,
   "metadata": {},
   "outputs": [],
   "source": [
    "%%bash\n",
    "\n",
    "WORK_DIR='/home/jupyter/Subhaplotypes/'\n",
    "cd $WORK_DIR\n",
    "\n",
    "ancestries=('AAC' 'AFR' 'AJ' 'AMR' 'CAS' 'EAS' 'EUR' 'MDE' 'SAS' 'CAH')\n",
    "\n",
    "for ancestry in \"${ancestries[@]}\"; do\n",
    "    echo \"Processing ancestry: $ancestry\"\n",
    "    /home/jupyter/tools/plink2 \\\n",
    "    --pfile ${ancestry}_haplo_h1h2_ \\\n",
    "    --ref-allele force alleles.txt \\\n",
    "    --make-pgen \\\n",
    "    --out ${ancestry}_flipped_plink_file\n",
    "done"
   ]
  },
  {
   "cell_type": "code",
   "execution_count": null,
   "metadata": {
    "scrolled": false
   },
   "outputs": [],
   "source": [
    "%%bash\n",
    "\n",
    "WORK_DIR='/home/jupyter/Subhaplotypes/'\n",
    "cd $WORK_DIR\n",
    "head EUR_flipped_plink_file.pvar"
   ]
  },
  {
   "cell_type": "code",
   "execution_count": null,
   "metadata": {},
   "outputs": [],
   "source": [
    "%%bash\n",
    "\n",
    "WORK_DIR='/home/jupyter/Subhaplotypes/'\n",
    "cd $WORK_DIR\n",
    "\n",
    "ancestries=('AAC' 'AFR' 'AJ' 'AMR' 'CAS' 'EAS' 'EUR' 'MDE' 'SAS' 'CAH')\n",
    "\n",
    "for ancestry in \"${ancestries[@]}\"; do\n",
    "    echo \"Processing ancestry: $ancestry\"\n",
    "    /home/jupyter/tools/plink2 \\\n",
    "    --pfile ${ancestry}_flipped_plink_file \\\n",
    "    --glm a0-ref hide-covar --ci 0.95 \\\n",
    "    --covar /home/jupyter/Subhaplotypes/${ancestry}/${ancestry}_covariates_cleaned.tsv \\\n",
    "    --covar-name SEX,PC1,PC2,PC3,PC4,PC5,PC6,PC7,PC8,PC9,PC10 \\\n",
    "    --pheno-name AAO \\\n",
    "    --pheno ${ancestry}/${ancestry}_covariates_cleaned.tsv \\\n",
    "    --covar-variance-standardize \\\n",
    "    --out /home/jupyter/Subhaplotypes/${ancestry}_H1_H2_AAO_flip\n",
    "done"
   ]
  },
  {
   "cell_type": "code",
   "execution_count": null,
   "metadata": {},
   "outputs": [],
   "source": [
    "import pandas as pd\n",
    "\n",
    "# List of ancestries\n",
    "ancestries = ['AAC', 'AFR', 'AJ', 'AMR', 'CAS', 'EAS', 'EUR', 'MDE', 'SAS', 'CAH']\n",
    "\n",
    "# Base directory for all ancestries\n",
    "BASE_DIR = '/home/jupyter/Subhaplotypes'\n",
    "\n",
    "# Loop through ancestries and read each file\n",
    "for ancestry in ancestries:\n",
    "    # Construct the file path\n",
    "    file_path = f\"{BASE_DIR}/{ancestry}_H1_H2_AAO_flip.AAO.glm.linear\"\n",
    "    \n",
    "    try:\n",
    "        # Read the file into a pandas DataFrame\n",
    "        df = pd.read_csv(file_path, sep='\\t')\n",
    "        \n",
    "        # Display the DataFrame with pandas styling (nice in Jupyter notebooks)\n",
    "        print(f\"Displaying contents of {ancestry} file:\")\n",
    "        display(df.head().style.set_properties(**{'text-align': 'center'}))  # Center align text\n",
    "        print(\"\\n\" + \"-\"*50 + \"\\n\")\n",
    "    except FileNotFoundError:\n",
    "        print(f\"File not found for ancestry {ancestry}: {file_path}\")\n"
   ]
  }
 ],
 "metadata": {
  "kernelspec": {
   "display_name": "Python 3 (ipykernel)",
   "language": "python",
   "name": "python3"
  },
  "language_info": {
   "codemirror_mode": {
    "name": "ipython",
    "version": 3
   },
   "file_extension": ".py",
   "mimetype": "text/x-python",
   "name": "python",
   "nbconvert_exporter": "python",
   "pygments_lexer": "ipython3",
   "version": "3.10.9"
  },
  "toc": {
   "base_numbering": 1,
   "nav_menu": {},
   "number_sections": true,
   "sideBar": true,
   "skip_h1_title": false,
   "title_cell": "Table of Contents",
   "title_sidebar": "Contents",
   "toc_cell": false,
   "toc_position": {
    "height": "calc(100% - 180px)",
    "left": "10px",
    "top": "150px",
    "width": "358px"
   },
   "toc_section_display": true,
   "toc_window_display": true
  }
 },
 "nbformat": 4,
 "nbformat_minor": 2
}
